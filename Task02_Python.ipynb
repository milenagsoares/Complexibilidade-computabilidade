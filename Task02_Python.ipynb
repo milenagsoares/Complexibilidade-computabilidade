{
  "nbformat": 4,
  "nbformat_minor": 0,
  "metadata": {
    "colab": {
      "provenance": [],
      "authorship_tag": "ABX9TyPMt0BQ/1SD4oTXKIbxIOGN",
      "include_colab_link": true
    },
    "kernelspec": {
      "name": "python3",
      "display_name": "Python 3"
    },
    "language_info": {
      "name": "python"
    }
  },
  "cells": [
    {
      "cell_type": "markdown",
      "metadata": {
        "id": "view-in-github",
        "colab_type": "text"
      },
      "source": [
        "<a href=\"https://colab.research.google.com/github/milenagsoares/Complexibilidade-computabilidade/blob/main/Task02_Python.ipynb\" target=\"_parent\"><img src=\"https://colab.research.google.com/assets/colab-badge.svg\" alt=\"Open In Colab\"/></a>"
      ]
    },
    {
      "cell_type": "markdown",
      "source": [
        " #Questão 01\n",
        "\n",
        " - Calcular os gastos de uma viagem"
      ],
      "metadata": {
        "id": "kk5SJam4VJel"
      }
    },
    {
      "cell_type": "code",
      "execution_count": 1,
      "metadata": {
        "colab": {
          "base_uri": "https://localhost:8080/"
        },
        "id": "5HiKmRmyUtfw",
        "outputId": "1e1d4216-6049-4bae-e772-bad5fa8b7532"
      },
      "outputs": [
        {
          "output_type": "stream",
          "name": "stdout",
          "text": [
            "uma viagem de 3 dias para Salvador saindo de Recife custaria 1657.14 reais\n"
          ]
        }
      ],
      "source": [
        "def gasto_hotel(dias):\n",
        "    diaria = 150\n",
        "    return dias * diaria\n",
        "\n",
        "def gasto_gasolina(distancia_km):\n",
        "    consumo_km_por_litro = 14\n",
        "    preco_litro = 5\n",
        "    distancia_total = distancia_km * 2\n",
        "    litros_necessarios = distancia_total / consumo_km_por_litro\n",
        "    return litros_necessarios * preco_litro\n",
        "\n",
        "def gasto_passeio(dias, gasto_diario):\n",
        "    return dias * gasto_diario\n",
        "\n",
        "cidade = \"Salvador\"\n",
        "dias = 3\n",
        "distancias = {\"Salvador\": 850, \"Fortaleza\": 800, \"Natal\": 300, \"Aracaju\": 550}\n",
        "passeios = {\"Salvador\": 200, \"Fortaleza\": 400, \"Natal\": 250, \"Aracaju\": 300}\n",
        "\n",
        "distancia = distancias[cidade]\n",
        "gasto_diario_passeio = passeios[cidade]\n",
        "\n",
        "total_hotel = gasto_hotel(dias)\n",
        "total_gasolina = gasto_gasolina(distancia)\n",
        "total_passeio = gasto_passeio(dias, gasto_diario_passeio)\n",
        "\n",
        "total = total_hotel + total_gasolina + total_passeio\n",
        "\n",
        "print(f\"uma viagem de {dias} dias para {cidade} saindo de Recife custaria {total:.2f} reais\")\n"
      ]
    },
    {
      "cell_type": "markdown",
      "source": [
        "#Questão 02\n",
        "- processamento de linguagem natural (NLP)"
      ],
      "metadata": {
        "id": "Y8Gy1jRhWm9r"
      }
    },
    {
      "cell_type": "code",
      "source": [
        "def filtrar_palavras(frase):\n",
        "    palavras = frase.split()\n",
        "    palavras_filtradas = [palavra for palavra in palavras if len(palavra) >= 5]\n",
        "    return palavras_filtradas\n",
        "\n",
        "frase = input(\"Digite uma frase: \")\n",
        "\n",
        "resultado = filtrar_palavras(frase)\n",
        "print(\"Palavras com 5 ou mais caracteres:\", resultado)\n"
      ],
      "metadata": {
        "colab": {
          "base_uri": "https://localhost:8080/"
        },
        "id": "Ru4tLmH3VtGu",
        "outputId": "9b3e6415-0285-4794-ea82-2fb31f964465"
      },
      "execution_count": 2,
      "outputs": [
        {
          "output_type": "stream",
          "name": "stdout",
          "text": [
            "Digite uma frase: oi meu nome é milena\n",
            "Palavras com 5 ou mais caracteres: ['milena']\n"
          ]
        }
      ]
    },
    {
      "cell_type": "markdown",
      "source": [
        "#Questão 03\n",
        "- Calcular pontos\n"
      ],
      "metadata": {
        "id": "T0GixFwTXJa7"
      }
    },
    {
      "cell_type": "code",
      "source": [
        "def calcula_pontos(gols_marcados, gols_sofridos):\n",
        "    if len(gols_marcados) != len(gols_sofridos):\n",
        "        raise ValueError(\"As listas de gols marcados e sofridos devem ter o mesmo tamanho.\")\n",
        "\n",
        "    total_jogos = len(gols_marcados)\n",
        "    pontos = 0\n",
        "    vitorias_time = 0\n",
        "    vitorias_adversario = 0\n",
        "\n",
        "    for marcado, sofrido in zip(gols_marcados, gols_sofridos):\n",
        "        if marcado > sofrido:\n",
        "            pontos += 3\n",
        "            vitorias_time += 1\n",
        "        elif marcado == sofrido:\n",
        "            pontos += 1\n",
        "        else:\n",
        "            vitorias_adversario += 1\n",
        "\n",
        "    pontos_possiveis = total_jogos * 3\n",
        "    aproveitamento = (pontos / pontos_possiveis) * 100 if pontos_possiveis > 0 else 0\n",
        "\n",
        "    return pontos, round(aproveitamento, 2), vitorias_time, vitorias_adversario\n",
        "\n",
        "if __name__ == \"__main__\":\n",
        "    try:\n",
        "        nome_time = input(\"Digite o nome do seu time: \").strip().title()\n",
        "        num_partidas = int(input(f\"Quantas partidas o {nome_time} disputou? \"))\n",
        "\n",
        "        gols_marcados = []\n",
        "        gols_sofridos = []\n",
        "\n",
        "        for i in range(num_partidas):\n",
        "            print(f\"\\n--- Partida {i+1} ---\")\n",
        "            marcado = int(input(f\"Gols marcados pelo {nome_time}: \"))\n",
        "            sofrido = int(input(\"Gols sofridos pelo time adversário: \"))\n",
        "            gols_marcados.append(marcado)\n",
        "            gols_sofridos.append(sofrido)\n",
        "\n",
        "        pontos, aproveitamento, vitorias_time, vitorias_adversario = calcula_pontos(gols_marcados, gols_sofridos)\n",
        "\n",
        "        print(\"\\n--- Resultado Final ---\")\n",
        "        print(f\"{nome_time} fez {pontos} pontos\")\n",
        "        print(f\"Aproveitamento: {aproveitamento}%\")\n",
        "\n",
        "        if vitorias_time > vitorias_adversario:\n",
        "            print(f\"O time que mais venceu foi o {nome_time} ({vitorias_time} vitórias)\")\n",
        "        elif vitorias_adversario > vitorias_time:\n",
        "            print(f\"O time adversário venceu mais partidas ({vitorias_adversario} vitórias)\")\n",
        "        else:\n",
        "            print(\"Empate no número de vitórias!\")\n",
        "\n",
        "    except ValueError as e:\n",
        "        print(f\"\\nErro: {e}\")\n"
      ],
      "metadata": {
        "colab": {
          "base_uri": "https://localhost:8080/"
        },
        "id": "K6SUT9zmWv7E",
        "outputId": "ba22e217-2c65-48f3-ec67-fc3a0c95362c"
      },
      "execution_count": 7,
      "outputs": [
        {
          "output_type": "stream",
          "name": "stdout",
          "text": [
            "Digite o nome do seu time: flamengo\n",
            "Quantas partidas o Flamengo disputou? 2\n",
            "\n",
            "--- Partida 1 ---\n",
            "Gols marcados pelo Flamengo: 2\n",
            "Gols sofridos pelo time adversário: 2\n",
            "\n",
            "--- Partida 2 ---\n",
            "Gols marcados pelo Flamengo: 1\n",
            "Gols sofridos pelo time adversário: 1\n",
            "\n",
            "--- Resultado Final ---\n",
            "Flamengo fez 2 pontos\n",
            "Aproveitamento: 33.33%\n",
            "Empate no número de vitórias!\n"
          ]
        }
      ]
    },
    {
      "cell_type": "markdown",
      "source": [
        "#Questão 04\n"
      ],
      "metadata": {
        "id": "CcCXuChcaVPC"
      }
    },
    {
      "cell_type": "code",
      "source": [
        "def analisar_desempenho(gols_marcados, gols_sofridos):\n",
        "    if len(gols_marcados) != len(gols_sofridos):\n",
        "        raise ValueError(\"As listas de gols marcados e sofridos devem ter o mesmo tamanho.\")\n",
        "\n",
        "    total_jogos = len(gols_marcados)\n",
        "    pontos = 0\n",
        "    vitorias = 0\n",
        "    empates = 0\n",
        "    derrotas = 0\n",
        "    saldo_gols = 0\n",
        "    total_marcados = sum(gols_marcados)\n",
        "    total_sofridos = sum(gols_sofridos)\n",
        "\n",
        "#Zip\n",
        "    for marcado, sofrido in zip(gols_marcados, gols_sofridos):\n",
        "        saldo_gols += (marcado - sofrido)\n",
        "\n",
        "        if marcado > sofrido:\n",
        "            pontos += 3\n",
        "            vitorias += 1\n",
        "        elif marcado == sofrido:\n",
        "            pontos += 1\n",
        "            empates += 1\n",
        "        else:\n",
        "            derrotas += 1\n",
        "\n",
        "    aproveitamento = (pontos / (total_jogos * 3)) * 100 if total_jogos > 0 else 0\n",
        "\n",
        "    return {\n",
        "        \"jogos\": total_jogos,\n",
        "        \"pontos\": pontos,\n",
        "        \"aproveitamento\": round(aproveitamento, 2),\n",
        "        \"vitórias\": vitorias,\n",
        "        \"empates\": empates,\n",
        "        \"derrotas\": derrotas,\n",
        "        \"gols marcados\": total_marcados,\n",
        "        \"gols sofridos\": total_sofridos,\n",
        "        \"saldo de gols\": saldo_gols\n",
        "    }\n",
        "\n",
        "if __name__ == \"__main__\":\n",
        "    try:\n",
        "        nome_time = input(\"Digite o nome do seu time: \").strip().title()\n",
        "        num_jogos = int(input(f\"Quantos jogos o {nome_time} disputou? \"))\n",
        "\n",
        "        gols_marcados = []\n",
        "        gols_sofridos = []\n",
        "\n",
        "        for i in range(num_jogos):\n",
        "            print(f\"\\n--- Jogo {i+1} ---\")\n",
        "            marcado = int(input(f\"Gols marcados pelo {nome_time}: \"))\n",
        "            sofrido = int(input(\"Gols sofridos pelo adversário: \"))\n",
        "            gols_marcados.append(marcado)\n",
        "            gols_sofridos.append(sofrido)\n",
        "\n",
        "        stats = analisar_desempenho(gols_marcados, gols_sofridos)\n",
        "\n",
        "        print(\"\\n--- Análise de Desempenho ---\")\n",
        "        for chave, valor in stats.items():\n",
        "            print(f\"{chave.capitalize()}: {valor}\")\n",
        "\n",
        "    except ValueError as e:\n",
        "        print(f\"Erro: {e}\")\n"
      ],
      "metadata": {
        "colab": {
          "base_uri": "https://localhost:8080/"
        },
        "id": "3x7h3IJdXRtv",
        "outputId": "d4a73778-6a92-4d6e-b47a-f2ad0fa9a138"
      },
      "execution_count": 8,
      "outputs": [
        {
          "output_type": "stream",
          "name": "stdout",
          "text": [
            "Digite o nome do seu time: flamengo\n",
            "Quantos jogos o Flamengo disputou? 2\n",
            "\n",
            "--- Jogo 1 ---\n",
            "Gols marcados pelo Flamengo: 1\n",
            "Gols sofridos pelo adversário: 1\n",
            "\n",
            "--- Jogo 2 ---\n",
            "Gols marcados pelo Flamengo: 1\n",
            "Gols sofridos pelo adversário: 0\n",
            "\n",
            "--- Análise de Desempenho ---\n",
            "Jogos: 2\n",
            "Pontos: 4\n",
            "Aproveitamento: 66.67\n",
            "Vitórias: 1\n",
            "Empates: 1\n",
            "Derrotas: 0\n",
            "Gols marcados: 2\n",
            "Gols sofridos: 1\n",
            "Saldo de gols: 1\n"
          ]
        }
      ]
    },
    {
      "cell_type": "markdown",
      "source": [
        "#Questão 05\n",
        "- Concatenando listas\n",
        "\n"
      ],
      "metadata": {
        "id": "qnJa3YotafGU"
      }
    },
    {
      "cell_type": "code",
      "source": [
        "nomes = [\"Milena\", \"Cris\", \"Eduarda\", \"Rafael\"]\n",
        "sobrenomes = [\"Soares\", \"Jung\", \"Timiraos\", \"Lazzari\"]\n",
        "\n",
        "# concatena nome e sobrenome\n",
        "nomes_completos = [f\"{nome} {sobrenome}\" for nome, sobrenome in zip(nomes, sobrenomes)]\n",
        "\n",
        "print(\"Lista de nomes completos:\")\n",
        "for nome in nomes_completos:\n",
        "    print(nome)\n"
      ],
      "metadata": {
        "colab": {
          "base_uri": "https://localhost:8080/"
        },
        "id": "V4FuD-uqZF3D",
        "outputId": "fb98504c-485c-4dbe-8834-771091eb9087"
      },
      "execution_count": 9,
      "outputs": [
        {
          "output_type": "stream",
          "name": "stdout",
          "text": [
            "Lista de nomes completos:\n",
            "Milena Soares\n",
            "Cris Jung\n",
            "Eduarda Timiraos\n",
            "Rafael Lazzari\n"
          ]
        }
      ]
    },
    {
      "cell_type": "markdown",
      "source": [
        "#Questão 06"
      ],
      "metadata": {
        "id": "Oj5feqica_Nq"
      }
    },
    {
      "cell_type": "code",
      "source": [
        "def analisar_desempenho(notas):\n",
        "    if len(notas) != 4:\n",
        "        raise ValueError(\"A lista deve conter exatamente 4 notas.\")\n",
        "\n",
        "    maior = max(notas)\n",
        "    menor = min(notas)\n",
        "    media = sum(notas) / len(notas)\n",
        "    situacao = \"Aprovado(a)\" if media >= 7 else \"Reprovado(a)\"\n",
        "\n",
        "    return maior, menor, round(media, 2), situacao\n",
        "\n",
        "if __name__ == \"__main__\":\n",
        "    print(\"Digite as 4 notas:\")\n",
        "    notas = []\n",
        "\n",
        "    for i in range(4):\n",
        "        nota = float(input(f\"Nota {i + 1}: \"))\n",
        "        notas.append(nota)\n",
        "\n",
        "    maior, menor, media, situacao = analisar_desempenho(notas)\n",
        "\n",
        "    print(\"\\n--- Análise do Desempenho ---\")\n",
        "    print(f\"Notas: {notas}\")\n",
        "    print(f\"Maior nota: {maior}\")\n",
        "    print(f\"Menor nota: {menor}\")\n",
        "    print(f\"Média: {media}\")\n",
        "    print(f\"Situação: {situacao}\")\n"
      ],
      "metadata": {
        "colab": {
          "base_uri": "https://localhost:8080/"
        },
        "id": "5tqcVXz3a8fy",
        "outputId": "04398342-20eb-4ff9-db92-c9a275f934f8"
      },
      "execution_count": 10,
      "outputs": [
        {
          "output_type": "stream",
          "name": "stdout",
          "text": [
            "Digite as 4 notas:\n",
            "Nota 1: 10\n",
            "Nota 2: 0\n",
            "Nota 3: 5\n",
            "Nota 4: 4\n",
            "\n",
            "--- Análise do Desempenho ---\n",
            "Notas: [10.0, 0.0, 5.0, 4.0]\n",
            "Maior nota: 10.0\n",
            "Menor nota: 0.0\n",
            "Média: 4.75\n",
            "Situação: Reprovado(a)\n"
          ]
        }
      ]
    },
    {
      "cell_type": "markdown",
      "source": [
        "#Questão 07\n",
        "- Análise de desempenho\n"
      ],
      "metadata": {
        "id": "gGC8dKlJdflY"
      }
    },
    {
      "cell_type": "code",
      "source": [
        "\n",
        "notas = [8.0, 6.0, 9.0, 5.0]\n",
        "\n",
        "maior_nota = max(notas)\n",
        "menor_nota = min(notas)\n",
        "media = np.mean(notas)\n",
        "mediana = np.median(notas)\n",
        "moda = multimode(notas)\n",
        "desvio_padrao = np.std(notas, ddof=1)\n",
        "amplitude = maior_nota - menor_nota\n",
        "\n",
        "\n",
        "situacao = \"Aprovado(a)\" if media >= 7.0 else \"Reprovado(a)\"\n",
        "consistencia = \"baixa\" if desvio_padrao > 2.0 else \"moderada\" if desvio_padrao > 1.0 else \"alta\"\n",
        "\n",
        "print(\"--- Análise Estatística das Notas ---\")\n",
        "print(f\"Notas: {notas}\")\n",
        "print(f\"\\nEstatísticas:\")\n",
        "print(f\"- Maior nota: {maior_nota}\")\n",
        "print(f\"- Menor nota: {menor_nota}\")\n",
        "print(f\"- Média: {media:.1f}\")\n",
        "print(f\"- Mediana: {mediana}\")\n",
        "print(f\"- Moda: {moda if len(moda) < len(notas) else 'Não há moda (todas únicas)'}\")\n",
        "print(f\"- Desvio padrão: {desvio_padrao:.2f}\")\n",
        "print(f\"- Amplitude: {amplitude}\")\n",
        "\n",
        "print(f\"\\nAnálise:\")\n",
        "print(f\"- Situação: {situacao} (média {'≥' if media >=7 else '<'} 7.0)\")\n",
        "print(f\"- Consistência: {consistencia} (desvio padrão = {desvio_padrao:.2f})\")\n",
        "print(f\"- Distribuição: {'Assimétrica à esquerda' if mediana > media else 'Assimétrica à direita' if mediana < media else 'Simétrica'}\")\n",
        "\n",
        "print(\"\\nRecomendações:\")\n",
        "if menor_nota < 6.0:\n",
        "    print(f\"- Atenção à nota mais baixa ({menor_nota}). Identifique os tópicos com dificuldade.\")\n",
        "if desvio_padrao > 1.5:\n",
        "    print(\"- Melhorar consistência (estudo regular reduz variação entre notas).\")\n",
        "if media >= 8.0:\n",
        "    print(\"- Mantenha o excelente desempenho!\")\n",
        "elif media >= 6.0:\n",
        "    print(\"- Bom desempenho, mas há espaço para melhorias.\")"
      ],
      "metadata": {
        "colab": {
          "base_uri": "https://localhost:8080/"
        },
        "id": "5rUpmXw4cPax",
        "outputId": "b73fb0f9-11dd-4683-c7a7-040c1052c234"
      },
      "execution_count": 13,
      "outputs": [
        {
          "output_type": "stream",
          "name": "stdout",
          "text": [
            "--- Análise Estatística das Notas ---\n",
            "Notas: [8.0, 6.0, 9.0, 5.0]\n",
            "\n",
            "Estatísticas:\n",
            "- Maior nota: 9.0\n",
            "- Menor nota: 5.0\n",
            "- Média: 7.0\n",
            "- Mediana: 7.0\n",
            "- Moda: Não há moda (todas únicas)\n",
            "- Desvio padrão: 1.83\n",
            "- Amplitude: 4.0\n",
            "\n",
            "Análise:\n",
            "- Situação: Aprovado(a) (média ≥ 7.0)\n",
            "- Consistência: moderada (desvio padrão = 1.83)\n",
            "- Distribuição: Simétrica\n",
            "\n",
            "Recomendações:\n",
            "- Atenção à nota mais baixa (5.0). Identifique os tópicos com dificuldade.\n",
            "- Melhorar consistência (estudo regular reduz variação entre notas).\n",
            "- Bom desempenho, mas há espaço para melhorias.\n"
          ]
        }
      ]
    },
    {
      "cell_type": "markdown",
      "source": [
        "#Questão 08\n",
        "- analisar as notas de skatistas em competições"
      ],
      "metadata": {
        "id": "V5f1p0DYeUcM"
      }
    },
    {
      "cell_type": "code",
      "source": [
        "import numpy as np\n",
        "from statistics import multimode\n",
        "\n",
        "def analisar_notas_skate():\n",
        "    print(\" Análise de Notas de Skatistas\")\n",
        "    print(\"Digite as 5 notas dadas pelos jurados (separadas por espaço):\")\n",
        "\n",
        "    while True:\n",
        "        try:\n",
        "            notas = list(map(float, input().strip().split()))\n",
        "            if len(notas) != 5:\n",
        "                raise ValueError\n",
        "            if not all(0 <= nota <= 10 for nota in notas):\n",
        "                raise ValueError\n",
        "            break\n",
        "        except:\n",
        "            print(\"Entrada inválida! Digite 5 números entre 0 e 10 (ex: 8.5 7.0 9.2 6.8 5.5)\")\n",
        "\n",
        "    notas_ordenadas = sorted(notas)\n",
        "    notas_sem_extremos = notas_ordenadas[1:-1]\n",
        "\n",
        "    # Cálculos estatísticos\n",
        "    media = np.mean(notas_sem_extremos)\n",
        "    mediana = np.median(notas_sem_extremos)\n",
        "    moda = multimode(notas_sem_extremos)\n",
        "    desvio_padrao = np.std(notas_sem_extremos, ddof=1)\n",
        "    amplitude = max(notas_sem_extremos) - min(notas_sem_extremos)\n",
        "\n",
        "    desempenho = \"Ótimo\" if media >= 8.5 else \"Bom\" if media >= 7.0 else \"Regular\" if media >= 5.0 else \"Ruim\"\n",
        "    consistencia = \"Alta\" if desvio_padrao < 1.0 else \"Moderada\" if desvio_padrao < 2.0 else \"Baixa\"\n",
        "\n",
        "    print(\"RELATÓRIO DO SKATISTA\".center(50))\n",
        "\n",
        "    print(f\"\\n→ Notas originais: {notas}\")\n",
        "    print(f\"→ Notas após corte (removendo maior/menor): {notas_sem_extremos}\\n\")\n",
        "\n",
        "    print(\"ESTATÍSTICAS:\")\n",
        "    print(f\"- Média: {media:.2f}\")\n",
        "    print(f\"- Mediana: {mediana}\")\n",
        "    print(f\"- Moda: {moda if len(moda) < len(notas_sem_extremos) else 'Sem moda clara'}\")\n",
        "    print(f\"- Desvio Padrão: {desvio_padrao:.2f}\")\n",
        "    print(f\"- Amplitude: {amplitude:.2f}\")\n",
        "\n",
        "    print(\"\\nANÁLISE:\")\n",
        "    print(f\"- Desempenho: {desempenho}\")\n",
        "    print(f\"- Consistência: {consistencia}\")\n",
        "    print(f\"- Variação: {'Notas uniformes' if amplitude < 2.0 else 'Grande variação entre jurados'}\")\n",
        "\n",
        "    print(\"\\nOBSERVAÇÕES:\")\n",
        "    if desvio_padrao > 2.0:\n",
        "        print(\"- Há discordância significativa entre os jurados\")\n",
        "    if max(notas_sem_extremos) - min(notas_sem_extremos) > 3.0:\n",
        "        print(\"- Diferença extrema entre notas altas e baixas\")\n",
        "    if media >= 9.0:\n",
        "        print(\"- Performance excepcional! Nível profissional\")\n",
        "    elif media <= 4.0:\n",
        "        print(\"- Necessidade de treinamento intensivo\")\n",
        "\n",
        "analisar_notas_skate()"
      ],
      "metadata": {
        "colab": {
          "base_uri": "https://localhost:8080/"
        },
        "id": "bV_A2ZDTdPEL",
        "outputId": "549a57a4-852d-429a-c25c-87e3d9692dcd"
      },
      "execution_count": 16,
      "outputs": [
        {
          "output_type": "stream",
          "name": "stdout",
          "text": [
            " Análise de Notas de Skatistas\n",
            "Digite as 5 notas dadas pelos jurados (separadas por espaço):\n",
            "10 10 10 10 10\n",
            "              RELATÓRIO DO SKATISTA               \n",
            "\n",
            "→ Notas originais: [10.0, 10.0, 10.0, 10.0, 10.0]\n",
            "→ Notas após corte (removendo maior/menor): [10.0, 10.0, 10.0]\n",
            "\n",
            "ESTATÍSTICAS:\n",
            "- Média: 10.00\n",
            "- Mediana: 10.0\n",
            "- Moda: [10.0]\n",
            "- Desvio Padrão: 0.00\n",
            "- Amplitude: 0.00\n",
            "\n",
            "ANÁLISE:\n",
            "- Desempenho: Ótimo\n",
            "- Consistência: Alta\n",
            "- Variação: Notas uniformes\n",
            "\n",
            "OBSERVAÇÕES:\n",
            "- Performance excepcional! Nível profissional\n"
          ]
        }
      ]
    },
    {
      "cell_type": "markdown",
      "source": [
        "#Questão 09\n",
        "- listas\n",
        "\n"
      ],
      "metadata": {
        "id": "dAkBwPrYlCkx"
      }
    },
    {
      "cell_type": "code",
      "source": [
        "def filtrar_multiplos_de_3(lista_numeros):\n",
        "    \"\"\"Retorna uma nova lista contendo apenas os múltiplos de 3\"\"\"\n",
        "    return [num for num in lista_numeros if num % 3 == 0]\n",
        "\n",
        "numeros = [97, 80, 94, 88, 80, 1, 16, 53, 62, 32, 24, 99]\n",
        "\n",
        "multiplos_de_3 = filtrar_multiplos_de_3(numeros)\n",
        "\n",
        "print(\"Lista original:\", numeros)\n",
        "print(\"Múltiplos de 3:\", multiplos_de_3)"
      ],
      "metadata": {
        "colab": {
          "base_uri": "https://localhost:8080/"
        },
        "id": "KR_cx6ISeyuq",
        "outputId": "e2ceca1e-f939-4e26-895c-7e8ad108303f"
      },
      "execution_count": 18,
      "outputs": [
        {
          "output_type": "stream",
          "name": "stdout",
          "text": [
            "Lista original: [97, 80, 94, 88, 80, 1, 16, 53, 62, 32, 24, 99]\n",
            "Múltiplos de 3: [24, 99]\n"
          ]
        }
      ]
    },
    {
      "cell_type": "code",
      "source": [],
      "metadata": {
        "id": "v2DMIARZlaV3"
      },
      "execution_count": null,
      "outputs": []
    }
  ]
}