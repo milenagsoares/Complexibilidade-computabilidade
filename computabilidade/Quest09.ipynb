{
  "nbformat": 4,
  "nbformat_minor": 0,
  "metadata": {
    "colab": {
      "provenance": []
    },
    "kernelspec": {
      "name": "python3",
      "display_name": "Python 3"
    },
    "language_info": {
      "name": "python"
    }
  },
  "cells": [
    {
      "cell_type": "code",
      "execution_count": null,
      "metadata": {
        "id": "D2QmhU2tmQdY"
      },
      "outputs": [],
      "source": []
    },
    {
      "cell_type": "markdown",
      "source": [
        "AFD que reconhece strings contendo a sequência \"101\":"
      ],
      "metadata": {
        "id": "IjQtNu2TmV88"
      }
    },
    {
      "cell_type": "code",
      "source": [
        "class AFDContem101:\n",
        "    def aceita(self, string):\n",
        "        return \"101\" in string\n",
        "\n",
        "afd3 = AFDContem101()\n",
        "\n",
        "print(afd3.aceita(\"110101\"))  # True\n",
        "print(afd3.aceita(\"111\"))     # False\n"
      ],
      "metadata": {
        "colab": {
          "base_uri": "https://localhost:8080/"
        },
        "id": "lZeDEyhpmWT8",
        "outputId": "6582cefc-f981-41e8-ae9a-90fab71811ff"
      },
      "execution_count": 1,
      "outputs": [
        {
          "output_type": "stream",
          "name": "stdout",
          "text": [
            "True\n",
            "False\n"
          ]
        }
      ]
    },
    {
      "cell_type": "code",
      "source": [],
      "metadata": {
        "id": "HQA99qmumYsZ"
      },
      "execution_count": null,
      "outputs": []
    }
  ]
}