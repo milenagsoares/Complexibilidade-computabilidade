{
  "nbformat": 4,
  "nbformat_minor": 0,
  "metadata": {
    "colab": {
      "provenance": []
    },
    "kernelspec": {
      "name": "python3",
      "display_name": "Python 3"
    },
    "language_info": {
      "name": "python"
    }
  },
  "cells": [
    {
      "cell_type": "code",
      "execution_count": null,
      "metadata": {
        "id": "1YInG5OqfTRy"
      },
      "outputs": [],
      "source": [
        "class AFDTerminaCom1:\n",
        "    def aceita(self, string):\n",
        "        estado_atual = 'q0'\n",
        "        for char in string:\n",
        "            estado_atual = 'q1' if char == '1' else 'q0'\n",
        "        return estado_atual == 'q1'\n",
        "\n",
        "\n"
      ]
    },
    {
      "cell_type": "code",
      "source": [
        "afd = AFDTerminaCom1()\n",
        "\n",
        "# Testes\n",
        "print(afd.aceita(\"110\"))  # False\n",
        "print(afd.aceita(\"111\"))  # True\n",
        "print(afd.aceita(\"0\"))    # False\n",
        "print(afd.aceita(\"1\"))    # True"
      ],
      "metadata": {
        "colab": {
          "base_uri": "https://localhost:8080/"
        },
        "id": "EG-GydjQgpvC",
        "outputId": "b4aebcb3-af38-449b-b980-79f2b9965ff5"
      },
      "execution_count": null,
      "outputs": [
        {
          "output_type": "stream",
          "name": "stdout",
          "text": [
            "False\n",
            "True\n",
            "False\n",
            "True\n"
          ]
        }
      ]
    }
  ]
}