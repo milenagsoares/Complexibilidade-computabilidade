{
  "nbformat": 4,
  "nbformat_minor": 0,
  "metadata": {
    "colab": {
      "provenance": []
    },
    "kernelspec": {
      "name": "python3",
      "display_name": "Python 3"
    },
    "language_info": {
      "name": "python"
    }
  },
  "cells": [
    {
      "cell_type": "code",
      "execution_count": 1,
      "metadata": {
        "id": "AA34scjMilc0"
      },
      "outputs": [],
      "source": [
        "class AFDDois1s:\n",
        "    def aceita(self, string):\n",
        "        contagem_1s = 0\n",
        "\n",
        "        for char in string:\n",
        "            if char == '1':\n",
        "                contagem_1s += 1\n",
        "            if contagem_1s > 2:\n",
        "                return False\n",
        "\n",
        "        return contagem_1s == 2"
      ]
    },
    {
      "cell_type": "code",
      "source": [
        "afd = AFDDois1s()\n",
        "\n",
        "# Testes\n",
        "print(afd.aceita(\"101\"))    # True\n",
        "print(afd.aceita(\"110\"))    # True\n",
        "print(afd.aceita(\"1110\"))   # False\n",
        "print(afd.aceita(\"000\"))    # False"
      ],
      "metadata": {
        "colab": {
          "base_uri": "https://localhost:8080/"
        },
        "id": "ehC7QFIWjBTV",
        "outputId": "879075b1-ad00-4ca4-9387-9a951d6cd2ff"
      },
      "execution_count": 2,
      "outputs": [
        {
          "output_type": "stream",
          "name": "stdout",
          "text": [
            "True\n",
            "True\n",
            "False\n",
            "False\n"
          ]
        }
      ]
    }
  ]
}