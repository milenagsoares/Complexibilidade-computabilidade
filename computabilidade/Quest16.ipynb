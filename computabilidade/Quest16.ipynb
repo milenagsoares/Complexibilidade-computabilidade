{
  "nbformat": 4,
  "nbformat_minor": 0,
  "metadata": {
    "colab": {
      "provenance": []
    },
    "kernelspec": {
      "name": "python3",
      "display_name": "Python 3"
    },
    "language_info": {
      "name": "python"
    }
  },
  "cells": [
    {
      "cell_type": "code",
      "execution_count": null,
      "metadata": {
        "id": "wBf-rsjIo7va"
      },
      "outputs": [],
      "source": [
        "AFD que reconhece strings onde os '0's aparecem em blocos consecutivos:"
      ]
    },
    {
      "cell_type": "markdown",
      "source": [
        "AFD que reconhece strings onde os '0's aparecem em blocos consecutivos:"
      ],
      "metadata": {
        "id": "d6iAW3nPo8kN"
      }
    },
    {
      "cell_type": "code",
      "source": [
        "class AFDBlocosConsecutivos:\n",
        "    def aceita(self, string):\n",
        "        estado = 'q0'\n",
        "        for char in string:\n",
        "            if char == '0':\n",
        "                if estado == 'q1':\n",
        "                    return False\n",
        "                estado = 'q1'  # Estado em que estamos vendo '0's\n",
        "            else:\n",
        "                estado = 'q0'  # Estado em que estamos vendo '1's\n",
        "        return True\n",
        "\n",
        "afd10 = AFDBlocosConsecutivos()\n",
        "\n",
        "print(afd10.aceita(\"11000\"))  # True\n",
        "print(afd10.aceita(\"10001\"))  # False\n"
      ],
      "metadata": {
        "colab": {
          "base_uri": "https://localhost:8080/"
        },
        "id": "Uus6YJJRo85z",
        "outputId": "4bba82ed-ceac-46d7-aee3-3abd5c1da696"
      },
      "execution_count": 1,
      "outputs": [
        {
          "output_type": "stream",
          "name": "stdout",
          "text": [
            "False\n",
            "False\n"
          ]
        }
      ]
    },
    {
      "cell_type": "code",
      "source": [],
      "metadata": {
        "id": "p1x2GCxgpAib"
      },
      "execution_count": null,
      "outputs": []
    }
  ]
}