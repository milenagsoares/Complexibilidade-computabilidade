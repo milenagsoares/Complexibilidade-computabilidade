{
  "nbformat": 4,
  "nbformat_minor": 0,
  "metadata": {
    "colab": {
      "provenance": []
    },
    "kernelspec": {
      "name": "python3",
      "display_name": "Python 3"
    },
    "language_info": {
      "name": "python"
    }
  },
  "cells": [
    {
      "cell_type": "code",
      "execution_count": null,
      "metadata": {
        "id": "PhRLnROZrYSM"
      },
      "outputs": [],
      "source": []
    },
    {
      "cell_type": "markdown",
      "source": [
        "AFN que aceite todas as strings sobre {a, b} que tenham um 'a' após cada 'b':"
      ],
      "metadata": {
        "id": "9DOSlTF8radl"
      }
    },
    {
      "cell_type": "code",
      "source": [
        "class AFNAposB:\n",
        "    def aceita(self, string):\n",
        "        estado = 'q0'  # Estado inicial\n",
        "        for char in string:\n",
        "            if estado == 'q0':\n",
        "                if char == 'b':\n",
        "                    estado = 'q1'  # Esperando um 'a' após 'b'\n",
        "            elif estado == 'q1':\n",
        "                if char == 'a':\n",
        "                    estado = 'q0'  # 'a' encontrado, volta ao estado inicial\n",
        "                elif char == 'b':\n",
        "                    return False  # Se encontrar outro 'b' sem 'a', rejeita\n",
        "        return True\n",
        "\n",
        "afd21 = AFNAposB()\n",
        "\n",
        "print(afd21.aceita(\"ab\"))      # True\n",
        "print(afd21.aceita(\"bab\"))     # False\n",
        "print(afd21.aceita(\"aaabbaa\"))  # True\n",
        "print(afd21.aceita(\"b\"))       # False\n"
      ],
      "metadata": {
        "colab": {
          "base_uri": "https://localhost:8080/"
        },
        "id": "DE72Udt5rbC3",
        "outputId": "70630227-183f-4af8-f465-862476a0246c"
      },
      "execution_count": 1,
      "outputs": [
        {
          "output_type": "stream",
          "name": "stdout",
          "text": [
            "True\n",
            "True\n",
            "False\n",
            "True\n"
          ]
        }
      ]
    },
    {
      "cell_type": "code",
      "source": [],
      "metadata": {
        "id": "v0Pq4iodrgkB"
      },
      "execution_count": null,
      "outputs": []
    }
  ]
}