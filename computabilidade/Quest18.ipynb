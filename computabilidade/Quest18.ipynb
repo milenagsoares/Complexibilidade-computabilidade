{
  "nbformat": 4,
  "nbformat_minor": 0,
  "metadata": {
    "colab": {
      "provenance": []
    },
    "kernelspec": {
      "name": "python3",
      "display_name": "Python 3"
    },
    "language_info": {
      "name": "python"
    }
  },
  "cells": [
    {
      "cell_type": "code",
      "execution_count": null,
      "metadata": {
        "id": "1aAYLqSvpiMz"
      },
      "outputs": [],
      "source": []
    },
    {
      "cell_type": "markdown",
      "source": [
        " AFD que reconhece a linguagem de strings sobre {0, 1} com número ímpar de '0's e '1's:"
      ],
      "metadata": {
        "id": "TOaPah6opkG2"
      }
    },
    {
      "cell_type": "code",
      "source": [
        "class AFDImparDe0sE1s:\n",
        "    def aceita(self, string):\n",
        "        count_0 = string.count('0')\n",
        "        count_1 = string.count('1')\n",
        "        return count_0 % 2 == 1 and count_1 % 2 == 1\n",
        "\n",
        "afd12 = AFDImparDe0sE1s()\n",
        "\n",
        "print(afd12.aceita(\"0101\"))  # True\n",
        "print(afd12.aceita(\"00\"))    # False\n"
      ],
      "metadata": {
        "colab": {
          "base_uri": "https://localhost:8080/"
        },
        "id": "botNbxLzpkSF",
        "outputId": "145da7c9-a05b-4ca7-9e9b-2e04ee402aef"
      },
      "execution_count": 1,
      "outputs": [
        {
          "output_type": "stream",
          "name": "stdout",
          "text": [
            "False\n",
            "False\n"
          ]
        }
      ]
    },
    {
      "cell_type": "code",
      "source": [],
      "metadata": {
        "id": "1tVXpyiOppNv"
      },
      "execution_count": null,
      "outputs": []
    }
  ]
}