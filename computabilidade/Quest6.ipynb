{
  "nbformat": 4,
  "nbformat_minor": 0,
  "metadata": {
    "colab": {
      "provenance": []
    },
    "kernelspec": {
      "name": "python3",
      "display_name": "Python 3"
    },
    "language_info": {
      "name": "python"
    }
  },
  "cells": [
    {
      "cell_type": "code",
      "execution_count": 1,
      "metadata": {
        "id": "UlKmEtbGkXUC"
      },
      "outputs": [],
      "source": [
        "class AFNComPeloMenosUm0:\n",
        "    def aceita(self, string):\n",
        "        for char in string:\n",
        "            if char == '0':\n",
        "                return True\n",
        "        return False\n",
        "\n",
        "\n"
      ]
    },
    {
      "cell_type": "code",
      "source": [
        "afd = AFNComPeloMenosUm0()\n",
        "\n",
        "print(afd.aceita(\"1111\"))   # False\n",
        "print(afd.aceita(\"1001\"))   # True\n",
        "print(afd.aceita(\"0000\"))   # True\n",
        "print(afd.aceita(\"1\"))      # False"
      ],
      "metadata": {
        "colab": {
          "base_uri": "https://localhost:8080/"
        },
        "id": "OVofjda8kh4w",
        "outputId": "6e6e060b-06bf-4081-dacf-b2e8da6eb92a"
      },
      "execution_count": 3,
      "outputs": [
        {
          "output_type": "stream",
          "name": "stdout",
          "text": [
            "False\n",
            "True\n",
            "True\n",
            "False\n"
          ]
        }
      ]
    },
    {
      "cell_type": "code",
      "source": [],
      "metadata": {
        "id": "SLkvEVlXkiiE"
      },
      "execution_count": null,
      "outputs": []
    }
  ]
}