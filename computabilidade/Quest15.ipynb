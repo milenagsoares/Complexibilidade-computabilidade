{
  "nbformat": 4,
  "nbformat_minor": 0,
  "metadata": {
    "colab": {
      "provenance": []
    },
    "kernelspec": {
      "name": "python3",
      "display_name": "Python 3"
    },
    "language_info": {
      "name": "python"
    }
  },
  "cells": [
    {
      "cell_type": "markdown",
      "source": [
        " AFN que reconhece strings sobre {a, b} com comprimento par:"
      ],
      "metadata": {
        "id": "-kus05ghow1j"
      }
    },
    {
      "cell_type": "code",
      "source": [
        "class AFNComprimentoPar:\n",
        "    def aceita(self, string):\n",
        "        return len(string) % 2 == 0\n",
        "\n",
        "afd9 = AFNComprimentoPar()\n",
        "\n",
        "print(afd9.aceita(\"abab\"))  # True\n",
        "print(afd9.aceita(\"abc\"))   # False\n"
      ],
      "metadata": {
        "id": "eEs34qy4oxD1",
        "outputId": "16d45bf8-5963-4dcd-a040-f13833b9105e",
        "colab": {
          "base_uri": "https://localhost:8080/"
        }
      },
      "execution_count": 1,
      "outputs": [
        {
          "output_type": "stream",
          "name": "stdout",
          "text": [
            "True\n",
            "False\n"
          ]
        }
      ]
    },
    {
      "cell_type": "code",
      "source": [],
      "metadata": {
        "id": "5d2d5BLyoy7D"
      },
      "execution_count": null,
      "outputs": []
    }
  ]
}