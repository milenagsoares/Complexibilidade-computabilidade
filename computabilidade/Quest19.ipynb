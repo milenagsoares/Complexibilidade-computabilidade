{
  "nbformat": 4,
  "nbformat_minor": 0,
  "metadata": {
    "colab": {
      "provenance": []
    },
    "kernelspec": {
      "name": "python3",
      "display_name": "Python 3"
    },
    "language_info": {
      "name": "python"
    }
  },
  "cells": [
    {
      "cell_type": "code",
      "execution_count": null,
      "metadata": {
        "id": "SzAFHr3lp_eZ"
      },
      "outputs": [],
      "source": []
    },
    {
      "cell_type": "markdown",
      "source": [
        " AFN que reconhece strings binárias que contenham a substring '010':"
      ],
      "metadata": {
        "id": "lhUBXZ5ZqAnu"
      }
    },
    {
      "cell_type": "code",
      "source": [
        "class AFNContem010:\n",
        "    def aceita(self, string):\n",
        "        return \"010\" in string\n",
        "\n",
        "afd13 = AFNContem010()\n",
        "\n",
        "print(afd13.aceita(\"11010\"))  # True\n",
        "print(afd13.aceita(\"111\"))    # False\n"
      ],
      "metadata": {
        "colab": {
          "base_uri": "https://localhost:8080/"
        },
        "id": "54iLlazDqA8l",
        "outputId": "81120068-490b-4ca4-e8e1-ca19aa3f5d38"
      },
      "execution_count": 1,
      "outputs": [
        {
          "output_type": "stream",
          "name": "stdout",
          "text": [
            "True\n",
            "False\n"
          ]
        }
      ]
    },
    {
      "cell_type": "code",
      "source": [],
      "metadata": {
        "id": "ZE2LebfOqCm3"
      },
      "execution_count": null,
      "outputs": []
    }
  ]
}