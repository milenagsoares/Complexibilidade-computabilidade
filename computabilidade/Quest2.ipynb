{
  "nbformat": 4,
  "nbformat_minor": 0,
  "metadata": {
    "colab": {
      "provenance": []
    },
    "kernelspec": {
      "name": "python3",
      "display_name": "Python 3"
    },
    "language_info": {
      "name": "python"
    }
  },
  "cells": [
    {
      "cell_type": "code",
      "execution_count": 2,
      "metadata": {
        "id": "Aj-Jvn79hPF1"
      },
      "outputs": [],
      "source": [
        "class AFDNumeroParDe0s:\n",
        "    def aceita(self, string):\n",
        "        estado_atual = 'q0'\n",
        "\n",
        "        for char in string:\n",
        "            if char == '0':\n",
        "                estado_atual = 'q1' if estado_atual == 'q0' else 'q0'\n",
        "\n",
        "        return estado_atual == 'q0'  # Aceita se o estado final for 'q0'"
      ]
    },
    {
      "cell_type": "code",
      "source": [
        "afd = AFDNumeroParDe0s()\n",
        "\n",
        "print(afd.aceita(\"1100\"))  # True (par de '0's)\n",
        "print(afd.aceita(\"101\"))   # False (um '0' apenas)\n",
        "print(afd.aceita(\"000\"))   # False (três '0's)\n",
        "print(afd.aceita(\"111\"))   # True (nenhum '0')"
      ],
      "metadata": {
        "colab": {
          "base_uri": "https://localhost:8080/"
        },
        "id": "zdpp3j0Dh9oJ",
        "outputId": "9ca1f574-1c65-4b67-9aa1-4e807a917a54"
      },
      "execution_count": 4,
      "outputs": [
        {
          "output_type": "stream",
          "name": "stdout",
          "text": [
            "True\n",
            "False\n",
            "False\n",
            "True\n"
          ]
        }
      ]
    }
  ]
}