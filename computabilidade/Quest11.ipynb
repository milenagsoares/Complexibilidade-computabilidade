{
  "nbformat": 4,
  "nbformat_minor": 0,
  "metadata": {
    "colab": {
      "provenance": []
    },
    "kernelspec": {
      "name": "python3",
      "display_name": "Python 3"
    },
    "language_info": {
      "name": "python"
    }
  },
  "cells": [
    {
      "cell_type": "code",
      "execution_count": null,
      "metadata": {
        "id": "GEd1V7rFm5Nl"
      },
      "outputs": [],
      "source": []
    },
    {
      "cell_type": "markdown",
      "source": [
        "AFD que reconhece strings com um número ímpar de 'a's:"
      ],
      "metadata": {
        "id": "-v8zNCU5m73j"
      }
    },
    {
      "cell_type": "code",
      "source": [
        "class AFDNumeroImparDeAs:\n",
        "    def aceita(self, string):\n",
        "        count = 0\n",
        "        for char in string:\n",
        "            if char == 'a':\n",
        "                count += 1\n",
        "        return count % 2 == 1\n",
        "\n",
        "afd5 = AFDNumeroImparDeAs()\n",
        "\n",
        "print(afd5.aceita(\"abacab\"))  # True\n",
        "print(afd5.aceita(\"aabb\"))    # False\n"
      ],
      "metadata": {
        "colab": {
          "base_uri": "https://localhost:8080/"
        },
        "id": "ZzjH9XKGm-3l",
        "outputId": "8661e979-026c-4040-ce9b-69b0bcf2791c"
      },
      "execution_count": 1,
      "outputs": [
        {
          "output_type": "stream",
          "name": "stdout",
          "text": [
            "True\n",
            "False\n"
          ]
        }
      ]
    },
    {
      "cell_type": "code",
      "source": [],
      "metadata": {
        "id": "paP33HpcnBDK"
      },
      "execution_count": null,
      "outputs": []
    }
  ]
}