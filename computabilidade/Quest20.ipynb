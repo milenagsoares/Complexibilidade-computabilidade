{
  "nbformat": 4,
  "nbformat_minor": 0,
  "metadata": {
    "colab": {
      "provenance": []
    },
    "kernelspec": {
      "name": "python3",
      "display_name": "Python 3"
    },
    "language_info": {
      "name": "python"
    }
  },
  "cells": [
    {
      "cell_type": "code",
      "execution_count": null,
      "metadata": {
        "id": "ZXZRDwRFqRsu"
      },
      "outputs": [],
      "source": []
    },
    {
      "cell_type": "markdown",
      "source": [
        " AFD que aceita strings sobre {a, b} onde a sequência 'ab' aparece exatamente uma vez:"
      ],
      "metadata": {
        "id": "9F1tYyEwqTlZ"
      }
    },
    {
      "cell_type": "code",
      "source": [
        "class AFDAbUmaVez:\n",
        "    def aceita(self, string):\n",
        "        return string.count(\"ab\") == 1\n",
        "\n",
        "afd14 = AFDAbUmaVez()\n",
        "\n",
        "print(afd14.aceita(\"aababc\"))  # True\n",
        "print(afd14.aceita(\"abab\"))     # False\n"
      ],
      "metadata": {
        "colab": {
          "base_uri": "https://localhost:8080/"
        },
        "id": "MSuVb1NZqUB1",
        "outputId": "13c64e97-836b-45bb-860a-5f2207bb715d"
      },
      "execution_count": 1,
      "outputs": [
        {
          "output_type": "stream",
          "name": "stdout",
          "text": [
            "False\n",
            "False\n"
          ]
        }
      ]
    },
    {
      "cell_type": "code",
      "source": [],
      "metadata": {
        "id": "p4aOm_LCqVl7"
      },
      "execution_count": null,
      "outputs": []
    }
  ]
}