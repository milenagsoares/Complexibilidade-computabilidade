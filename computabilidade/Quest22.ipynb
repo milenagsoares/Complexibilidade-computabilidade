{
  "nbformat": 4,
  "nbformat_minor": 0,
  "metadata": {
    "colab": {
      "provenance": []
    },
    "kernelspec": {
      "name": "python3",
      "display_name": "Python 3"
    },
    "language_info": {
      "name": "python"
    }
  },
  "cells": [
    {
      "cell_type": "code",
      "execution_count": null,
      "metadata": {
        "id": "fBxrwQS8rqNV"
      },
      "outputs": [],
      "source": [
        "AFD que reconhece uma linguagem onde a diferença entre o número de 'a's e 'b's seja múltipla de 3:"
      ]
    },
    {
      "cell_type": "markdown",
      "source": [
        "AFD que reconhece uma linguagem onde a diferença entre o número de 'a's e 'b's seja múltipla de 3:"
      ],
      "metadata": {
        "id": "EFLMjyxPrrmq"
      }
    },
    {
      "cell_type": "code",
      "source": [
        "class AFDMultiplosDe3:\n",
        "    def aceita(self, string):\n",
        "        diff = 0  # Diferença entre o número de 'a's e 'b's\n",
        "        for char in string:\n",
        "            if char == 'a':\n",
        "                diff += 1\n",
        "            elif char == 'b':\n",
        "                diff -= 1\n",
        "        return diff % 3 == 0\n",
        "\n",
        "afd22 = AFDMultiplosDe3()\n",
        "\n",
        "print(afd22.aceita(\"aaabbb\"))  # True\n",
        "print(afd22.aceita(\"aabb\"))    # False\n"
      ],
      "metadata": {
        "colab": {
          "base_uri": "https://localhost:8080/"
        },
        "id": "v6Z-DPzYrr1W",
        "outputId": "f70c9531-9703-4273-fe8d-2cfe5d210c4d"
      },
      "execution_count": 1,
      "outputs": [
        {
          "output_type": "stream",
          "name": "stdout",
          "text": [
            "True\n",
            "True\n"
          ]
        }
      ]
    },
    {
      "cell_type": "code",
      "source": [],
      "metadata": {
        "id": "2rkBjqKQrumd"
      },
      "execution_count": null,
      "outputs": []
    }
  ]
}