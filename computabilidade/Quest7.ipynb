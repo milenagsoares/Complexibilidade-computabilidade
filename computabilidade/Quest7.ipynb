{
  "nbformat": 4,
  "nbformat_minor": 0,
  "metadata": {
    "colab": {
      "provenance": []
    },
    "kernelspec": {
      "name": "python3",
      "display_name": "Python 3"
    },
    "language_info": {
      "name": "python"
    }
  },
  "cells": [
    {
      "cell_type": "markdown",
      "source": [
        "\n",
        "\n",
        "AFN que reconhece strings que começam com '01' e terminam com '10'"
      ],
      "metadata": {
        "id": "Sax7LvLrlpKU"
      }
    },
    {
      "cell_type": "code",
      "source": [
        "class AFNInicio01Fim10:\n",
        "    def aceita(self, string):\n",
        "        if len(string) < 4:  # Mínimo para \"01\" e \"10\"\n",
        "            return False\n",
        "        if string.startswith('01') and string.endswith('10'):\n",
        "            return True\n",
        "        return False\n",
        "\n",
        "afd1 = AFNInicio01Fim10()\n",
        "\n",
        "print(afd1.aceita(\"0110\"))  # True\n",
        "print(afd1.aceita(\"0100\"))  # False\n"
      ],
      "metadata": {
        "colab": {
          "base_uri": "https://localhost:8080/"
        },
        "id": "9D3vOU4elrzi",
        "outputId": "09cbf348-76e9-4c01-c34d-75b97b76bf60"
      },
      "execution_count": 1,
      "outputs": [
        {
          "output_type": "stream",
          "name": "stdout",
          "text": [
            "True\n",
            "False\n"
          ]
        }
      ]
    }
  ]
}