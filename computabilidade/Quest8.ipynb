{
  "nbformat": 4,
  "nbformat_minor": 0,
  "metadata": {
    "colab": {
      "provenance": []
    },
    "kernelspec": {
      "name": "python3",
      "display_name": "Python 3"
    },
    "language_info": {
      "name": "python"
    }
  },
  "cells": [
    {
      "cell_type": "code",
      "execution_count": null,
      "metadata": {
        "id": "DUdP4mGHl9zL"
      },
      "outputs": [],
      "source": []
    },
    {
      "cell_type": "markdown",
      "source": [
        ". AFN que aceita strings onde o número de '0's é divisível por 3"
      ],
      "metadata": {
        "id": "S1umdO5Cl-5x"
      }
    },
    {
      "cell_type": "code",
      "source": [
        "class AFNNumeroDivisivelPor3:\n",
        "    def aceita(self, string):\n",
        "        count = 0\n",
        "        for char in string:\n",
        "            if char == '0':\n",
        "                count += 1\n",
        "        return count % 3 == 0\n",
        "\n",
        "afd2 = AFNNumeroDivisivelPor3()\n",
        "\n",
        "print(afd2.aceita(\"000\"))    # True\n",
        "print(afd2.aceita(\"0000\"))   # False\n"
      ],
      "metadata": {
        "id": "j17gLkzvl_YN",
        "outputId": "cd75be8a-cf61-4dca-c3d8-670cb427ba58",
        "colab": {
          "base_uri": "https://localhost:8080/"
        }
      },
      "execution_count": 1,
      "outputs": [
        {
          "output_type": "stream",
          "name": "stdout",
          "text": [
            "True\n",
            "False\n"
          ]
        }
      ]
    },
    {
      "cell_type": "code",
      "source": [],
      "metadata": {
        "id": "tdIbefI0mG2T"
      },
      "execution_count": null,
      "outputs": []
    }
  ]
}