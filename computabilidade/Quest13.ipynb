{
  "nbformat": 4,
  "nbformat_minor": 0,
  "metadata": {
    "colab": {
      "provenance": []
    },
    "kernelspec": {
      "name": "python3",
      "display_name": "Python 3"
    },
    "language_info": {
      "name": "python"
    }
  },
  "cells": [
    {
      "cell_type": "code",
      "execution_count": null,
      "metadata": {
        "id": "2PXvVZEDnh34"
      },
      "outputs": [],
      "source": []
    },
    {
      "cell_type": "markdown",
      "source": [
        "AFD que reconhece strings binárias onde o número de '1's é maior que o número de '0's:"
      ],
      "metadata": {
        "id": "uIZgCRNAnkQW"
      }
    },
    {
      "cell_type": "code",
      "source": [
        "class AFDMais1sQue0s:\n",
        "    def aceita(self, string):\n",
        "        count_0 = string.count('0')\n",
        "        count_1 = string.count('1')\n",
        "        return count_1 > count_0\n",
        "\n",
        "afd7 = AFDMais1sQue0s()\n",
        "\n",
        "print(afd7.aceita(\"110\"))  # True\n",
        "print(afd7.aceita(\"00\"))   # False\n"
      ],
      "metadata": {
        "colab": {
          "base_uri": "https://localhost:8080/"
        },
        "id": "bz2ha6aAnm2-",
        "outputId": "e32ee072-a61b-4e6c-b683-fa4d378133de"
      },
      "execution_count": 1,
      "outputs": [
        {
          "output_type": "stream",
          "name": "stdout",
          "text": [
            "True\n",
            "False\n"
          ]
        }
      ]
    },
    {
      "cell_type": "code",
      "source": [],
      "metadata": {
        "id": "MAJkZJ9Sno5v"
      },
      "execution_count": null,
      "outputs": []
    },
    {
      "cell_type": "code",
      "source": [],
      "metadata": {
        "id": "R1eoSHZtny1b"
      },
      "execution_count": null,
      "outputs": []
    }
  ]
}