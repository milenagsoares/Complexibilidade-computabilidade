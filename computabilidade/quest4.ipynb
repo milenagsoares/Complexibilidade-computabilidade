{
  "nbformat": 4,
  "nbformat_minor": 0,
  "metadata": {
    "colab": {
      "provenance": []
    },
    "kernelspec": {
      "name": "python3",
      "display_name": "Python 3"
    },
    "language_info": {
      "name": "python"
    }
  },
  "cells": [
    {
      "cell_type": "code",
      "execution_count": 1,
      "metadata": {
        "id": "SqydTZ3UjQsu"
      },
      "outputs": [],
      "source": [
        "class AFDAceitaPeloMenosUm0:\n",
        "    def aceita(self, string):\n",
        "        estado_atual = 'q0'\n",
        "        for char in string:\n",
        "            if estado_atual == 'q0' and char == '0':\n",
        "                estado_atual = 'q1'\n",
        "        return estado_atual == 'q1'\n",
        "\n"
      ]
    },
    {
      "cell_type": "code",
      "source": [
        "afd = AFDAceitaPeloMenosUm0()\n",
        "\n",
        "print(afd.aceita(\"1111\"))   # False\n",
        "print(afd.aceita(\"1001\"))   # True\n",
        "print(afd.aceita(\"0000\"))   # True\n",
        "print(afd.aceita(\"1\"))      # False\n"
      ],
      "metadata": {
        "colab": {
          "base_uri": "https://localhost:8080/"
        },
        "id": "XP27Q5jCjsda",
        "outputId": "11689afa-a1f7-41af-b034-033dd7a562b7"
      },
      "execution_count": 2,
      "outputs": [
        {
          "output_type": "stream",
          "name": "stdout",
          "text": [
            "False\n",
            "True\n",
            "True\n",
            "False\n"
          ]
        }
      ]
    }
  ]
}