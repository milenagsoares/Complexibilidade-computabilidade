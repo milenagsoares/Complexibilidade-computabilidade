{
  "nbformat": 4,
  "nbformat_minor": 0,
  "metadata": {
    "colab": {
      "provenance": []
    },
    "kernelspec": {
      "name": "python3",
      "display_name": "Python 3"
    },
    "language_info": {
      "name": "python"
    }
  },
  "cells": [
    {
      "cell_type": "code",
      "execution_count": null,
      "metadata": {
        "id": "KUUzv2uJnHzR"
      },
      "outputs": [],
      "source": []
    },
    {
      "cell_type": "markdown",
      "source": [
        "AFN que reconhece strings binárias contendo a substring '110':"
      ],
      "metadata": {
        "id": "qHlPEQkenJ8X"
      }
    },
    {
      "cell_type": "code",
      "source": [
        "class AFNContem110:\n",
        "    def aceita(self, string):\n",
        "        return \"110\" in string\n",
        "\n",
        "afd6 = AFNContem110()\n",
        "\n",
        "print(afd6.aceita(\"111001\"))  # True\n",
        "print(afd6.aceita(\"1010\"))    # False\n"
      ],
      "metadata": {
        "colab": {
          "base_uri": "https://localhost:8080/"
        },
        "id": "osizu1h0nMug",
        "outputId": "f062055c-d9fc-488f-d3a8-90565b499855"
      },
      "execution_count": 1,
      "outputs": [
        {
          "output_type": "stream",
          "name": "stdout",
          "text": [
            "True\n",
            "False\n"
          ]
        }
      ]
    },
    {
      "cell_type": "code",
      "source": [],
      "metadata": {
        "id": "0D7vHvbDnO4R"
      },
      "execution_count": null,
      "outputs": []
    }
  ]
}