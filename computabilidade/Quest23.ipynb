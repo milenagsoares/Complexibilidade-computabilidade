{
  "nbformat": 4,
  "nbformat_minor": 0,
  "metadata": {
    "colab": {
      "provenance": []
    },
    "kernelspec": {
      "name": "python3",
      "display_name": "Python 3"
    },
    "language_info": {
      "name": "python"
    }
  },
  "cells": [
    {
      "cell_type": "code",
      "execution_count": null,
      "metadata": {
        "id": "iDPvVLdEsCx3"
      },
      "outputs": [],
      "source": [
        "AFN que aceite qualquer string que contenha a sequência \"101\" ou \"110\" sobre {0, 1}:"
      ]
    },
    {
      "cell_type": "markdown",
      "source": [
        "AFN que aceite qualquer string que contenha a sequência \"101\" ou \"110\" sobre {0, 1}:"
      ],
      "metadata": {
        "id": "qaj4A0xHsJae"
      }
    },
    {
      "cell_type": "code",
      "source": [
        "class AFNContem101ou110:\n",
        "    def aceita(self, string):\n",
        "        return \"101\" in string or \"110\" in string\n",
        "\n",
        "afd23 = AFNContem101ou110()\n",
        "\n",
        "print(afd23.aceita(\"11010\"))  # True\n",
        "print(afd23.aceita(\"00000\"))  # False\n",
        "print(afd23.aceita(\"10101\"))  # True\n"
      ],
      "metadata": {
        "colab": {
          "base_uri": "https://localhost:8080/"
        },
        "id": "K6AF5doLsJov",
        "outputId": "74db3ef0-1e16-41e4-e14a-ffe04412cb4c"
      },
      "execution_count": 1,
      "outputs": [
        {
          "output_type": "stream",
          "name": "stdout",
          "text": [
            "True\n",
            "False\n",
            "True\n"
          ]
        }
      ]
    },
    {
      "cell_type": "code",
      "source": [],
      "metadata": {
        "id": "CqZklq-usRDN"
      },
      "execution_count": null,
      "outputs": []
    }
  ]
}