{
  "nbformat": 4,
  "nbformat_minor": 0,
  "metadata": {
    "colab": {
      "provenance": []
    },
    "kernelspec": {
      "name": "python3",
      "display_name": "Python 3"
    },
    "language_info": {
      "name": "python"
    }
  },
  "cells": [
    {
      "cell_type": "markdown",
      "source": [],
      "metadata": {
        "id": "dS42GcShs4eE"
      }
    },
    {
      "cell_type": "code",
      "execution_count": null,
      "metadata": {
        "id": "atdEvns7s2zC"
      },
      "outputs": [],
      "source": [
        " AFN que reconheça strings sobre {a, b} onde todas as ocorrências de 'a' aparecem antes de todas as ocorrências de 'b':"
      ]
    },
    {
      "cell_type": "code",
      "source": [
        "class AFNAAntesDeB:\n",
        "    def aceita(self, string):\n",
        "        encontrou_b = False\n",
        "        for char in string:\n",
        "            if char == 'b':\n",
        "                encontrou_b = True\n",
        "            if encontrou_b and char == 'a':\n",
        "                return False  # Encontrou 'a' após 'b'\n",
        "        return True\n",
        "\n",
        "afd25 = AFNAAntesDeB()\n",
        "\n",
        "print(afd25.aceita(\"aaabbb\"))  # True\n",
        "print(afd25.aceita(\"abab\"))     # False\n",
        "print(afd25.aceita(\"aabb\"))     # True\n",
        "\n"
      ],
      "metadata": {
        "colab": {
          "base_uri": "https://localhost:8080/"
        },
        "id": "SVa-JHjAs5O5",
        "outputId": "f8ed1a21-81dd-42e7-e18d-fd4ee95032ce"
      },
      "execution_count": 1,
      "outputs": [
        {
          "output_type": "stream",
          "name": "stdout",
          "text": [
            "True\n",
            "False\n",
            "True\n"
          ]
        }
      ]
    },
    {
      "cell_type": "code",
      "source": [],
      "metadata": {
        "id": "N6cb-JbKs89V"
      },
      "execution_count": null,
      "outputs": []
    }
  ]
}