{
  "nbformat": 4,
  "nbformat_minor": 0,
  "metadata": {
    "colab": {
      "provenance": []
    },
    "kernelspec": {
      "name": "python3",
      "display_name": "Python 3"
    },
    "language_info": {
      "name": "python"
    }
  },
  "cells": [
    {
      "cell_type": "code",
      "execution_count": 1,
      "metadata": {
        "id": "bzEp00Jlj-MZ"
      },
      "outputs": [],
      "source": [
        "class AFDAceitaMesmoInicioFim:\n",
        "    def aceita(self, string):\n",
        "        if len(string) == 0:\n",
        "            return False\n",
        "        return string[0] == string[-1]\n",
        "\n"
      ]
    },
    {
      "cell_type": "code",
      "source": [
        "afd = AFDAceitaMesmoInicioFim()\n",
        "\n",
        "\n",
        "print(afd.aceita(\"101\"))    # True (começa e termina com '1')\n",
        "print(afd.aceita(\"100\"))    # False (começa com '1' e termina com '0')\n",
        "print(afd.aceita(\"0\"))      # True (começa e termina com '0')\n",
        "print(afd.aceita(\"11\"))     # True (começa e termina com '1')\n"
      ],
      "metadata": {
        "colab": {
          "base_uri": "https://localhost:8080/"
        },
        "id": "9p9l0XdFkFZ9",
        "outputId": "b15fcb6f-2a08-4874-8b38-cd40b98476dd"
      },
      "execution_count": 3,
      "outputs": [
        {
          "output_type": "stream",
          "name": "stdout",
          "text": [
            "True\n",
            "False\n",
            "True\n",
            "True\n"
          ]
        }
      ]
    }
  ]
}