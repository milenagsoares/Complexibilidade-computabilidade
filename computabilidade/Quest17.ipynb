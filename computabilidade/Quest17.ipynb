{
  "nbformat": 4,
  "nbformat_minor": 0,
  "metadata": {
    "colab": {
      "provenance": []
    },
    "kernelspec": {
      "name": "python3",
      "display_name": "Python 3"
    },
    "language_info": {
      "name": "python"
    }
  },
  "cells": [
    {
      "cell_type": "code",
      "execution_count": null,
      "metadata": {
        "id": "QzcqitkupQHM"
      },
      "outputs": [],
      "source": []
    },
    {
      "cell_type": "markdown",
      "source": [
        "AFD que reconhece strings terminadas em '01':"
      ],
      "metadata": {
        "id": "0_dWkUIYpUvq"
      }
    },
    {
      "cell_type": "code",
      "source": [
        "class AFDTerminaEm01:\n",
        "    def aceita(self, string):\n",
        "        return string.endswith(\"01\")\n",
        "\n",
        "afd11 = AFDTerminaEm01()\n",
        "\n",
        "print(afd11.aceita(\"11001\"))  # True\n",
        "print(afd11.aceita(\"1010\"))    # False\n"
      ],
      "metadata": {
        "colab": {
          "base_uri": "https://localhost:8080/"
        },
        "id": "HJq8gWzdpVGg",
        "outputId": "d50370de-2105-428c-d5ff-818b91c0fd2a"
      },
      "execution_count": 1,
      "outputs": [
        {
          "output_type": "stream",
          "name": "stdout",
          "text": [
            "True\n",
            "False\n"
          ]
        }
      ]
    },
    {
      "cell_type": "code",
      "source": [],
      "metadata": {
        "id": "cfzv4SvRpXTK"
      },
      "execution_count": null,
      "outputs": []
    }
  ]
}