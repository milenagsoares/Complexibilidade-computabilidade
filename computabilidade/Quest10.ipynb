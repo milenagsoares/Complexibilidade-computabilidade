{
  "nbformat": 4,
  "nbformat_minor": 0,
  "metadata": {
    "colab": {
      "provenance": []
    },
    "kernelspec": {
      "name": "python3",
      "display_name": "Python 3"
    },
    "language_info": {
      "name": "python"
    }
  },
  "cells": [
    {
      "cell_type": "code",
      "execution_count": null,
      "metadata": {
        "id": "KmJjSxglmhdY"
      },
      "outputs": [],
      "source": []
    },
    {
      "cell_type": "markdown",
      "source": [
        "AFN que aceita qualquer string que tenha pelo menos um '0' seguido de pelo menos um '1':"
      ],
      "metadata": {
        "id": "xKzdDb9cmjwc"
      }
    },
    {
      "cell_type": "code",
      "source": [
        "class AFNZeroSeguidoDeUm:\n",
        "    def aceita(self, string):\n",
        "        encontrou_zero = False\n",
        "        for char in string:\n",
        "            if char == '0':\n",
        "                encontrou_zero = True\n",
        "            if encontrou_zero and char == '1':\n",
        "                return True\n",
        "        return False\n",
        "\n",
        "afd4 = AFNZeroSeguidoDeUm()\n",
        "\n",
        "print(afd4.aceita(\"0011\"))  # True\n",
        "print(afd4.aceita(\"0000\"))  # False\n"
      ],
      "metadata": {
        "colab": {
          "base_uri": "https://localhost:8080/"
        },
        "id": "aCK55sC-ml2z",
        "outputId": "85c3a7f4-95f4-4f15-c186-e934c6e3d9e7"
      },
      "execution_count": 1,
      "outputs": [
        {
          "output_type": "stream",
          "name": "stdout",
          "text": [
            "True\n",
            "False\n"
          ]
        }
      ]
    }
  ]
}