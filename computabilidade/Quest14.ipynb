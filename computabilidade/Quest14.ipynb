{
  "nbformat": 4,
  "nbformat_minor": 0,
  "metadata": {
    "colab": {
      "provenance": []
    },
    "kernelspec": {
      "name": "python3",
      "display_name": "Python 3"
    },
    "language_info": {
      "name": "python"
    }
  },
  "cells": [
    {
      "cell_type": "code",
      "execution_count": null,
      "metadata": {
        "id": "QJrkAA9noS6j"
      },
      "outputs": [],
      "source": []
    },
    {
      "cell_type": "markdown",
      "source": [
        " AFN que aceita strings binárias onde as substrings \"11\" e \"00\" não aparecem"
      ],
      "metadata": {
        "id": "Yluhkn4NodXt"
      }
    },
    {
      "cell_type": "code",
      "source": [
        "class AFNSem11Nem00:\n",
        "    def aceita(self, string):\n",
        "        return \"11\" not in string and \"00\" not in string\n",
        "\n",
        "afd8 = AFNSem11Nem00()\n",
        "\n",
        "print(afd8.aceita(\"101010\"))  # True\n",
        "print(afd8.aceita(\"1100\"))    # False\n"
      ],
      "metadata": {
        "colab": {
          "base_uri": "https://localhost:8080/"
        },
        "id": "mNaw7Nvjoduv",
        "outputId": "6b69990e-d397-4f34-d817-cfdac9a641c1"
      },
      "execution_count": 1,
      "outputs": [
        {
          "output_type": "stream",
          "name": "stdout",
          "text": [
            "True\n",
            "False\n"
          ]
        }
      ]
    },
    {
      "cell_type": "code",
      "source": [],
      "metadata": {
        "id": "YBVZLjNwohBZ"
      },
      "execution_count": null,
      "outputs": []
    }
  ]
}