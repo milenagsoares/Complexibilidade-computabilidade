{
  "nbformat": 4,
  "nbformat_minor": 0,
  "metadata": {
    "colab": {
      "provenance": []
    },
    "kernelspec": {
      "name": "python3",
      "display_name": "Python 3"
    },
    "language_info": {
      "name": "python"
    }
  },
  "cells": [
    {
      "cell_type": "code",
      "execution_count": null,
      "metadata": {
        "id": "ULmRRt_Uspyv"
      },
      "outputs": [],
      "source": []
    },
    {
      "cell_type": "markdown",
      "source": [
        "AFD que aceite strings sobre {0, 1} onde a sequência \"010\" aparece pelo menos duas vezes:"
      ],
      "metadata": {
        "id": "MdWI8kp1ssNE"
      }
    },
    {
      "cell_type": "code",
      "source": [
        "class AFDContem010DuasVezes:\n",
        "    def aceita(self, string):\n",
        "        count = 0\n",
        "        for i in range(len(string) - 2):\n",
        "            if string[i:i+3] == \"010\":\n",
        "                count += 1\n",
        "        return count >= 2\n",
        "\n",
        "afd24 = AFDContem010DuasVezes()\n",
        "\n",
        "print(afd24.aceita(\"0101010\"))  # True\n",
        "print(afd24.aceita(\"000\"))      # False\n",
        "print(afd24.aceita(\"101010\"))   # True\n"
      ],
      "metadata": {
        "colab": {
          "base_uri": "https://localhost:8080/"
        },
        "id": "Cmi8G3iUsslF",
        "outputId": "762def09-5485-4d31-de71-b35c59d7f830"
      },
      "execution_count": 1,
      "outputs": [
        {
          "output_type": "stream",
          "name": "stdout",
          "text": [
            "True\n",
            "False\n",
            "True\n"
          ]
        }
      ]
    },
    {
      "cell_type": "code",
      "source": [],
      "metadata": {
        "id": "z0ZvbVhjsuVi"
      },
      "execution_count": null,
      "outputs": []
    }
  ]
}